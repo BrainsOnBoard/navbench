{
 "cells": [
  {
   "cell_type": "code",
   "execution_count": 4,
   "metadata": {},
   "outputs": [
    {
     "name": "stdout",
     "output_type": "stream",
     "text": [
      "13:55:40.759 [BoBRobotics::Navigation::ImageDatabase::ImageDatabase@247] Using image database at ../datasets/rc_car/Stanmer_park_dataset/0511/unwrapped_dataset1\n"
     ]
    },
    {
     "data": {
      "application/vnd.jupyter.widget-view+json": {
       "model_id": "e8df05ca28234204842bc75490b2a27b",
       "version_major": 2,
       "version_minor": 0
      },
      "text/plain": [
       "interactive(children=(IntSlider(value=0, description='Frame', max=410), Output()), _dom_classes=('widget-inter…"
      ]
     },
     "metadata": {},
     "output_type": "display_data"
    },
    {
     "data": {
      "application/vnd.jupyter.widget-view+json": {
       "model_id": "32e97e59968348889232c4a5190c5eaf",
       "version_major": 2,
       "version_minor": 0
      },
      "image/png": "[encoded data removed]",
      "text/html": [
       "\n",
       "            <div style=\"display: inline-block;\">\n",
       "                <div class=\"jupyter-widgets widget-label\" style=\"text-align: center;\">\n",
       "                    Figure\n",
       "                </div>\n",
       "                <img src='data:image/png;base64,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' width=700.0/>\n",
       "            </div>\n",
       "        "
      ],
      "text/plain": [
       "Canvas(toolbar=Toolbar(toolitems=[('Home', 'Reset original view', 'home', 'home'), ('Back', 'Back to previous …"
      ]
     },
     "metadata": {},
     "output_type": "display_data"
    }
   ],
   "source": [
    "%matplotlib widget\n",
    "\n",
    "import sys\n",
    "\n",
    "sys.path.append(\"..\")\n",
    "\n",
    "from ipywidgets import *\n",
    "import matplotlib.pyplot as plt\n",
    "\n",
    "plt.rcParams[\"figure.figsize\"] = (7, 3)\n",
    "\n",
    "import navbench as nb\n",
    "import navbench.imgproc as ip\n",
    "\n",
    "\n",
    "db = nb.Database(\"../datasets/rc_car/Stanmer_park_dataset/0511/unwrapped_dataset1\")\n",
    "\n",
    "IM_SIZE = (25, 90)\n",
    "RESIZE = ip.resize(*IM_SIZE)\n",
    "PREPROC = (RESIZE, ip.remove_sky_and_histeq)\n",
    "images = db.read_images(preprocess=PREPROC)\n",
    "\n",
    "_, ax = plt.subplots()\n",
    "ax.set_xticks(())\n",
    "ax.set_yticks(())\n",
    "\n",
    "\n",
    "def change_frame(x=0):\n",
    "    ax.imshow(images[x], cmap=\"gray\")\n",
    "\n",
    "\n",
    "interact(change_frame, x=widgets.IntSlider(description=\"Frame\", max=len(db) - 1));"
   ]
  }
 ],
 "metadata": {
  "kernelspec": {
   "display_name": "Python 3.10.5 ('.venv': poetry)",
   "language": "python",
   "name": "python3"
  },
  "language_info": {
   "codemirror_mode": {
    "name": "ipython",
    "version": 3
   },
   "file_extension": ".py",
   "mimetype": "text/x-python",
   "name": "python",
   "nbconvert_exporter": "python",
   "pygments_lexer": "ipython3",
   "version": "3.10.5"
  },
  "vscode": {
   "interpreter": {
    "hash": "30845ac7b75e36656635413ecdec15b85ae6738150baf2461511ce3fbd15191b"
   }
  }
 },
 "nbformat": 4,
 "nbformat_minor": 2
}
