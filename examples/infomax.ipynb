{
 "cells": [
  {
   "cell_type": "code",
   "execution_count": 1,
   "metadata": {},
   "outputs": [
    {
     "name": "stdout",
     "output_type": "stream",
     "text": [
      "Loading database at ../datasets/ant_world/routes/ant1_route1...\n",
      "Database contains 812 images\n",
      "Starting get_ann()...\n",
      "Seed for InfoMax net: 42\n",
      "get_ann() took 96.5518 s to run (without caching)\n",
      "Saving result to cache '.navbench_cache/3469126272.py_get_ann_99a35c3a9988619052b7295fa9ab1a7924f378f40396d0b2e704092ec8c73cbc.pkl'\n",
      "Starting get_heads_infomax()...\n",
      "get_heads_infomax() took 3.32246 s to run (without caching)\n",
      "Saving result to cache '.navbench_cache/3469126272.py_get_heads_infomax_8f25e493b1a74be930f5ac5d271b08db44c157b8c766b5de38880f68a514a356.pkl'\n",
      "Starting get_heads_ridf()...\n",
      "get_heads_ridf() took 23.8771 s to run (without caching)\n",
      "Saving result to cache '.navbench_cache/3469126272.py_get_heads_ridf_8b91e798a40a2d19d8ad9aa811fae190f8053171812df264423c32f58b200960.pkl'\n"
     ]
    },
    {
     "data": {
      "image/png": "[encoded data removed]",
      "text/plain": [
       "<Figure size 576x360 with 2 Axes>"
      ]
     },
     "metadata": {
      "needs_background": "light"
     },
     "output_type": "display_data"
    }
   ],
   "source": [
    "import sys\n",
    "sys.path.append('..')\n",
    "\n",
    "import math\n",
    "import os\n",
    "\n",
    "import matplotlib.pyplot as plt\n",
    "import numpy as np\n",
    "import pathos.multiprocessing as mp\n",
    "\n",
    "import navbench as nb\n",
    "import navbench.imgproc as ip\n",
    "from navbench.infomax import InfoMax\n",
    "\n",
    "IM_SIZE = (90, 25)\n",
    "PREPROC = ip.resize(*IM_SIZE)\n",
    "\n",
    "db = nb.Database('../datasets/ant_world/routes/ant1_route1')\n",
    "images = db.read_images(preprocess=PREPROC, to_float=False)\n",
    "\n",
    "@nb.cache_result\n",
    "def get_ann(images, im_size, lrate, seed):\n",
    "    assert not seed is None\n",
    "\n",
    "    ann = InfoMax(im_size[0] * im_size[1], learning_rate=lrate, seed=seed)\n",
    "    for im in images:\n",
    "        ann.train(im)\n",
    "    return ann\n",
    "\n",
    "@nb.cache_result\n",
    "def get_heads_infomax(ann, test_images):\n",
    "    head_offset = db.calculate_heading_offset(0.25)\n",
    "    pool = mp.Pool()\n",
    "    return pool.map(lambda im: head_offset + nb.ridf_to_radians(ann.ridf(im)), test_images)\n",
    "\n",
    "def get_best_ridf(diffs):\n",
    "    best_over_rot = np.min(diffs, axis=1)\n",
    "    best_row = np.argmin(best_over_rot)\n",
    "    return diffs[best_row, :]\n",
    "\n",
    "@nb.cache_result\n",
    "def get_heads_ridf(snapshots, test_images):\n",
    "    head_offset = db.calculate_heading_offset(0.25)\n",
    "    heads = [head_offset + nb.ridf_to_radians(get_best_ridf(nb.ridf(snapshots, im))) for im in test_images]\n",
    "    return heads\n",
    "\n",
    "ann = get_ann(images, IM_SIZE, InfoMax.DEFAULT_LEARNING_RATE, 42)\n",
    "\n",
    "test_entries = range(0, len(db), 50)\n",
    "x = [db.x[i] for i in test_entries]\n",
    "y = [db.y[i] for i in test_entries]\n",
    "heads = get_heads_infomax(ann, [images[entry] for entry in test_entries])\n",
    "u = [math.cos(head) for head in heads]\n",
    "v = [math.sin(head) for head in heads]\n",
    "\n",
    "_, ax = plt.subplots(1, 2, figsize=(8, 5))\n",
    "\n",
    "ax[0].plot(db.x, db.y)\n",
    "ax[0].quiver(x, y, u, v, angles='xy', scale_units='xy', scale=2)\n",
    "ax[0].axis('equal')\n",
    "\n",
    "heads = get_heads_ridf(images, [images[entry] for entry in test_entries])\n",
    "u = [math.cos(head) for head in heads]\n",
    "v = [math.sin(head) for head in heads]\n",
    "\n",
    "ax[1].plot(db.x, db.y)\n",
    "ax[1].quiver(x, y, u, v, angles='xy', scale_units='xy', scale=2)\n",
    "ax[1].axis('equal');"
   ]
  }
 ],
 "metadata": {
  "kernelspec": {
   "display_name": "Python 3",
   "language": "python",
   "name": "python3"
  },
  "language_info": {
   "codemirror_mode": {
    "name": "ipython",
    "version": 3
   },
   "file_extension": ".py",
   "mimetype": "text/x-python",
   "name": "python",
   "nbconvert_exporter": "python",
   "pygments_lexer": "ipython3",
   "version": "3.10.1"
  }
 },
 "nbformat": 4,
 "nbformat_minor": 2
}
