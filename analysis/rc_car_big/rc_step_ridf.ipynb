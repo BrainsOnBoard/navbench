{
 "cells": [
  {
   "cell_type": "code",
   "execution_count": null,
   "metadata": {},
   "outputs": [],
   "source": [
    "%matplotlib widget\n",
    "from ipywidgets import *\n",
    "import sys\n",
    "sys.path.append('../..')\n",
    "\n",
    "import navbench as nb\n",
    "import matplotlib.pyplot as plt\n",
    "import numpy as np\n",
    "\n",
    "def show_im(ax, im, cmap='gray'):\n",
    "    ax.imshow(im, cmap=cmap)\n",
    "    ax.set_xticks(())\n",
    "    ax.set_yticks(())\n",
    "\n",
    "STEP = 1\n",
    "\n",
    "db_train = nb.Database('../../datasets/rc_car/rc_car_big/unwrapped_20210303_150314', interpolate_xy=True)\n",
    "db_test = db_train\n",
    "train_entry = db_train.read_image_entries(0)\n",
    "test_entry = db_test.read_image_entries(1)\n",
    "\n",
    "width = train_entry.image.shape[1]\n",
    "snap = np.roll(train_entry.image, -round(train_entry.heading * width / (2 * np.pi)), axis=1)\n",
    "ridf = nb.ridf(test_entry.image, snap, step=STEP)\n",
    "\n",
    "_, ax = plt.subplots(4)\n",
    "show_im(ax[1], snap)\n",
    "ax[1].set_title('Training image')\n",
    "ax[3].plot(range(0, width, STEP), ridf)\n",
    "lines, = ax[3].plot(0, ridf[0], 'ro')\n",
    "\n",
    "# halfwidth = round(width / 2)\n",
    "\n",
    "def update(rotation):\n",
    "    test_im = np.roll(test_entry.image, rotation, axis=1)\n",
    "    show_im(ax[0], test_im)\n",
    "    ax[0].set_title('Test image (rotation=%d)' % rotation)\n",
    "\n",
    "    diffim = test_im.astype(float) - snap.astype(float)\n",
    "    diffim /= 255\n",
    "    mean_abs_diff = np.mean(np.abs(diffim))\n",
    "\n",
    "    diffim = (diffim + 1) / 2\n",
    "    show_im(ax[2], diffim, None)\n",
    "    ax[2].set_title('Difference (mean=%g)' % mean_abs_diff)\n",
    "\n",
    "    lines.set_xdata(rotation)\n",
    "    lines.set_ydata(ridf[int(rotation / STEP)])\n",
    "\n",
    "interact(update, rotation=widgets.IntSlider(0, 0, width - STEP, step=STEP));"
   ]
  }
 ],
 "metadata": {
  "interpreter": {
   "hash": "767d51c1340bd893661ea55ea3124f6de3c7a262a8b4abca0554b478b1e2ff90"
  },
  "kernelspec": {
   "display_name": "Python 3.10.4 64-bit",
   "language": "python",
   "name": "python3"
  },
  "language_info": {
   "codemirror_mode": {
    "name": "ipython",
    "version": 3
   },
   "file_extension": ".py",
   "mimetype": "text/x-python",
   "name": "python",
   "nbconvert_exporter": "python",
   "pygments_lexer": "ipython3",
   "version": "3.10.4"
  },
  "orig_nbformat": 4
 },
 "nbformat": 4,
 "nbformat_minor": 2
}
