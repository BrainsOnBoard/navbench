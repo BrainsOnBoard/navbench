{
 "cells": [
  {
   "cell_type": "code",
   "execution_count": null,
   "metadata": {},
   "outputs": [],
   "source": [
    "import rc_car_big\n",
    "import matplotlib.pyplot as plt\n",
    "import numpy as np\n",
    "\n",
    "\n",
    "def filter_nans(db):\n",
    "    nonnan = ~np.isnan(db.x)\n",
    "    x = db.x[nonnan]\n",
    "    y = db.y[nonnan]\n",
    "    assert not np.any(np.isnan(y))\n",
    "    return x, y\n",
    "\n",
    "\n",
    "def dist_to_route(train_x, train_y, test_db):\n",
    "    test_x, test_y = filter_nans(test_db)\n",
    "\n",
    "    # Get distances between all points in train + test dbs. NB: This step takes\n",
    "    # looooots of RAM!\n",
    "    xdist = np.atleast_2d(test_x) - np.atleast_2d(train_x).T\n",
    "    ydist = np.atleast_2d(test_y) - np.atleast_2d(train_y).T\n",
    "    all_dists = np.hypot(xdist, ydist)\n",
    "\n",
    "    # Get shortest distance to training route...\n",
    "    vals = np.nanmin(all_dists, axis=0)\n",
    "    assert len(vals) == len(test_x)\n",
    "    return vals\n",
    "\n",
    "\n",
    "paths = rc_car_big.get_paths()\n",
    "dbs = rc_car_big.load_databases(paths[0:4])\n",
    "\n",
    "train_route = dbs[0]\n",
    "test_routes = dbs[1:]\n",
    "train_x, train_y = filter_nans(train_route)\n",
    "for db in dbs:\n",
    "    plt.plot(dist_to_route(train_x, train_y, db))"
   ]
  }
 ],
 "metadata": {
  "interpreter": {
   "hash": "767d51c1340bd893661ea55ea3124f6de3c7a262a8b4abca0554b478b1e2ff90"
  },
  "kernelspec": {
   "display_name": "Python 3 (ipykernel)",
   "language": "python",
   "name": "python3"
  },
  "language_info": {
   "codemirror_mode": {
    "name": "ipython",
    "version": 3
   },
   "file_extension": ".py",
   "mimetype": "text/x-python",
   "name": "python",
   "nbconvert_exporter": "python",
   "pygments_lexer": "ipython3",
   "version": "3.10.2"
  }
 },
 "nbformat": 4,
 "nbformat_minor": 2
}
